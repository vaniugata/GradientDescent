{
 "cells": [
  {
   "cell_type": "markdown",
   "metadata": {},
   "source": [
    "# Final exam project Content #\n",
    "\n",
    "### Project topic - Gradient Descent algorithm ###\n",
    "\n",
    "\n",
    "1. Define a problem to solve:\n",
    "    * Define a simple function for example: $ f(x) = (x - 10)^2 $\n",
    "</p>\n",
    "\n",
    "2. Expressing the need for GD - Find the global minimum of the function\n",
    "    * Trying to solve the problem analytically - show the cons of this approach.<br>\n",
    "        For example it scales really bad when our data is defined by many paramaters and we have large amounts of data to process.<br>\n",
    "        If we have large a very complex function with hundreds or thousands parameters it becomes extremely difficult to calculate the global minimum.\n",
    "</p>\n",
    "\n",
    "3. Explaining the plain GD algorithm\n",
    "    1. Describe the alogrith -  use LaTeX to show formulas and notations\n",
    "    2. Write a python script that aplies the algorithm\n",
    "    3. Visualize how the algorithm works using matplotlib\n",
    "</p>\n",
    "\n",
    "4. Solving a real life example problem using GD.\n",
    "    * Apply the algorithm to the MNIST dataset\n",
    "</p>\n",
    "\n",
    "5. Algorithm improvements and opitimizations\n",
    "    * Introduce Stochastic Gradient Descent\n",
    "    * Further optimizations:\n",
    "    * Introduce AdaGrad\n",
    "    * Introduce RMSProp\n",
    "    * Combine both methods - introduce Adam gradient descent optimization\n",
    "        - What are the advantages of adam ?\n",
    "        - Run Adam on MNIST dataset\n",
    "        - Compare training times with plain GD and SGD.\n",
    "\n"
   ]
  }
 ],
 "metadata": {
  "interpreter": {
   "hash": "b3ba2566441a7c06988d0923437866b63cedc61552a5af99d1f4fb67d367b25f"
  },
  "kernelspec": {
   "display_name": "Python 3.9.7 ('base')",
   "language": "python",
   "name": "python3"
  },
  "language_info": {
   "codemirror_mode": {
    "name": "ipython",
    "version": 3
   },
   "file_extension": ".py",
   "mimetype": "text/x-python",
   "name": "python",
   "nbconvert_exporter": "python",
   "pygments_lexer": "ipython3",
   "version": "3.9.7"
  },
  "orig_nbformat": 4
 },
 "nbformat": 4,
 "nbformat_minor": 2
}
